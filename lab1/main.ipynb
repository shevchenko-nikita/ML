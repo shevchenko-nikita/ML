{
 "cells": [
  {
   "cell_type": "code",
   "execution_count": 1,
   "outputs": [],
   "source": [
    "import torch\n",
    "import numpy as np\n",
    "import pandas as pd\n",
    "from torch import Tensor\n",
    "\n",
    "from typing import (\n",
    "    Dict,\n",
    "    List,\n",
    "    Tuple,\n",
    "    Set,\n",
    "    Any,\n",
    "    Annotated,\n",
    "    Callable,\n",
    "    Union,\n",
    "    Type,\n",
    "    Optional,\n",
    ")\n",
    "\n",
    "data = pd.read_csv('dataset_6.csv')"
   ],
   "metadata": {
    "collapsed": false,
    "ExecuteTime": {
     "end_time": "2024-10-02T22:44:34.877974300Z",
     "start_time": "2024-10-02T22:44:28.199528600Z"
    }
   },
   "id": "fc951edada542525"
  },
  {
   "cell_type": "code",
   "execution_count": 2,
   "outputs": [
    {
     "name": "stdout",
     "output_type": "stream",
     "text": [
      "           feature_1      feature_2      feature_3         target\n",
      "count  100000.000000  100000.000000  100000.000000  100000.000000\n",
      "mean        5.006825       5.003051       4.998433      28.613197\n",
      "std         2.888864       2.889897       2.884420      20.031461\n",
      "min         0.000081       0.000341       0.000256      -0.488483\n",
      "25%         2.508727       2.495508       2.507904      11.460930\n",
      "50%         5.007289       5.013033       4.976677      25.685016\n",
      "75%         7.512871       7.505080       7.496536      42.450870\n",
      "max         9.999931       9.999995       9.999936     105.931095\n",
      "feature_1    0\n",
      "feature_2    0\n",
      "feature_3    0\n",
      "target       0\n",
      "dtype: int64\n"
     ]
    }
   ],
   "source": [
    "print(data.describe())\n",
    "print(data.isnull().sum())"
   ],
   "metadata": {
    "collapsed": false,
    "ExecuteTime": {
     "end_time": "2024-10-02T22:44:34.939782900Z",
     "start_time": "2024-10-02T22:44:34.877143400Z"
    }
   },
   "id": "195b3ec3e697d76d"
  },
  {
   "cell_type": "code",
   "execution_count": null,
   "outputs": [],
   "source": [],
   "metadata": {
    "collapsed": false
   },
   "id": "53e60538875496"
  }
 ],
 "metadata": {
  "kernelspec": {
   "display_name": "Python 3",
   "language": "python",
   "name": "python3"
  },
  "language_info": {
   "codemirror_mode": {
    "name": "ipython",
    "version": 2
   },
   "file_extension": ".py",
   "mimetype": "text/x-python",
   "name": "python",
   "nbconvert_exporter": "python",
   "pygments_lexer": "ipython2",
   "version": "2.7.6"
  }
 },
 "nbformat": 4,
 "nbformat_minor": 5
}
